{
  "nbformat": 4,
  "nbformat_minor": 0,
  "metadata": {
    "colab": {
      "provenance": [],
      "authorship_tag": "ABX9TyN4SOAXzoeZv44D8HWNWGN6",
      "include_colab_link": true
    },
    "kernelspec": {
      "name": "python3",
      "display_name": "Python 3"
    },
    "language_info": {
      "name": "python"
    }
  },
  "cells": [
    {
      "cell_type": "markdown",
      "metadata": {
        "id": "view-in-github",
        "colab_type": "text"
      },
      "source": [
        "<a href=\"https://colab.research.google.com/github/Danishzaman-0786/a-text-run-on-the-video/blob/main/text_run_video.ipynb\" target=\"_parent\"><img src=\"https://colab.research.google.com/assets/colab-badge.svg\" alt=\"Open In Colab\"/></a>"
      ]
    },
    {
      "cell_type": "code",
      "execution_count": null,
      "metadata": {
        "id": "xlI9lzuDHdrD"
      },
      "outputs": [],
      "source": [
        "import cv2 as cv\n",
        "import numpy as np\n",
        "step=10\n",
        "text='danish'\n",
        "x,y=(0,100)\n",
        "fontScale=2\n",
        "color=(255,0,0)\n",
        "thickness=2\n",
        "font=cv.FONT_HERSHEY_PLAIN\n",
        "v=cv.VideoCapture(0)\n",
        "while(1):\n",
        "    ret,f=v.read()\n",
        "    cv.putText(f, text, (x,y), font, fontScale=2, color=(255,0,0), thickness=2)\n",
        "    cv.imshow('window', f)\n",
        "    x += step\n",
        "    if x > f.shape[0]:  # Reset when text moves out of frame\n",
        "        x = -cv.getTextSize(text='danish', fontFace=cv.FONT_HERSHEY_PLAIN, font_scale=2, thickness=2)[0][0]\n",
        "    if cv.waitKey(500) & 0XFF==ord('x'):\n",
        "        break\n",
        "cv.destroyAllWindows()\n"
      ]
    }
  ]
}